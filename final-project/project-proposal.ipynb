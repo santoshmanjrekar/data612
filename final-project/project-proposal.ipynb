{
 "cells": [
  {
   "cell_type": "markdown",
   "metadata": {},
   "source": [
    "### Final Project Proposal -Data 612\n",
    "#### Author: Santosh Manjrekar\n"
   ]
  },
  {
   "cell_type": "markdown",
   "metadata": {},
   "source": [
    "###  Intent\n",
    "In this final project I wanted to demonstrate most of the techniques I learned in data612 course. Also I wanted to use dataset other than famous movie rating dataset since I used it in my previous assignments. Currently I am working on NLP project in my company and I wanted to use some kind of text processing in my project.I wanted to implement hybrid approach which I haven't implemented in my previous assignments."
   ]
  },
  {
   "cell_type": "markdown",
   "metadata": {},
   "source": [
    "### Dataset\n",
    "\n",
    "I am using dataset [Articles Sharing and Reading from CI&T Desktop](https://www.kaggle.com/gspmoreira/articles-sharing-reading-from-cit-deskdrop) from kaggle website. This rich and rare dataset contains a real sample of 12 months logs (Mar. 2016 - Feb. 2017) from CI&T's Internal Communication platform (DeskDrop). \n",
    "I contains about 73k logged users interactions on more than 3k public articles shared in the platform. \n",
    "\n",
    "This dataset features some distinctive characteristics:\n",
    "\n",
    "* Item attributes: Articles' original URL, title, and content plain text are available in two languages (English and Portuguese).\n",
    "\n",
    "* Contextual information: Context of the users visits, like date/time, client (mobile native app / browser) and geolocation.\n",
    "\n",
    "* Logged users: All users are required to login in the platform, providing a long-term tracking of users preferences (not depending on cookies in devices).\n",
    "\n",
    "* Rich implicit feedback: Different interaction types were logged, making it possible to infer the user's level of interest in the articles (eg. comments > likes > views).\n",
    "\n",
    "* Multi-platform: Users interactions were tracked in different platforms (web browsers and mobile native apps)\n",
    "\n",
    "\n",
    "\n",
    "   "
   ]
  },
  {
   "cell_type": "markdown",
   "metadata": {},
   "source": [
    "#### Final Outcome\n",
    "\n",
    "I will build the recommender system in python based on Collaborative Filtering, Content Based Filtering and Hybrid methode on the above mentioned dataset and provide personalized recommendations to the user. I haven't implemented content based filtering and Hybrid approach in my earlier assignments. Also I will compare the results from these 3 approaches."
   ]
  },
  {
   "cell_type": "code",
   "execution_count": null,
   "metadata": {},
   "outputs": [],
   "source": []
  }
 ],
 "metadata": {
  "kernelspec": {
   "display_name": "Python 3",
   "language": "python",
   "name": "python3"
  },
  "language_info": {
   "codemirror_mode": {
    "name": "ipython",
    "version": 3
   },
   "file_extension": ".py",
   "mimetype": "text/x-python",
   "name": "python",
   "nbconvert_exporter": "python",
   "pygments_lexer": "ipython3",
   "version": "3.7.2"
  }
 },
 "nbformat": 4,
 "nbformat_minor": 2
}
