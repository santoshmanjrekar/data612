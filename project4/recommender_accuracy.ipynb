{
 "cells": [
  {
   "cell_type": "markdown",
   "metadata": {
    "collapsed": true
   },
   "source": [
    "## Data 612- Project-4\n",
    "### Santosh Manjrekar\n",
    "\n",
    "\n",
    "## Recommender Systems Accuracy\n",
    "1. As in your previous assignments, compare the accuracy of at least two recommender system algorithms against your offline data.\n",
    "2. Implement support for at least one business or user experience goal such as increased serendipity, novelty, or diversity.\n",
    "3. Compare and report on any change in accuracy before and after you’ve made the change in #2.\n",
    "4. As part of your textual conclusion, discuss one or more additional experiments that could be performed and/or metrics that could be evaluated only if online evaluation was possible. Also, briefly propose how you would design a reasonable online evaluation environment."
   ]
  },
  {
   "cell_type": "markdown",
   "metadata": {},
   "source": [
    "### Let's evaluate SVD or matrix facorisation based model for RMSE and MAE"
   ]
  },
  {
   "cell_type": "code",
   "execution_count": 5,
   "metadata": {},
   "outputs": [
    {
     "name": "stdout",
     "output_type": "stream",
     "text": [
      "Evaluating RMSE, MAE of algorithm SVD on 5 split(s).\n",
      "\n",
      "                  Fold 1  Fold 2  Fold 3  Fold 4  Fold 5  Mean    Std     \n",
      "RMSE (testset)    0.9364  0.9332  0.9437  0.9247  0.9381  0.9352  0.0063  \n",
      "MAE (testset)     0.7379  0.7350  0.7445  0.7287  0.7392  0.7371  0.0052  \n",
      "Fit time          23.45   21.38   20.00   18.18   18.51   20.30   1.94    \n",
      "Test time         0.71    0.72    0.58    0.72    0.69    0.68    0.05    \n"
     ]
    },
    {
     "data": {
      "text/plain": [
       "{'test_rmse': array([0.93639338, 0.93323705, 0.94365088, 0.92465889, 0.93812681]),\n",
       " 'test_mae': array([0.73789147, 0.73503652, 0.74453918, 0.72867257, 0.73921768]),\n",
       " 'fit_time': (23.449915409088135,\n",
       "  21.37979030609131,\n",
       "  20.000617504119873,\n",
       "  18.18253517150879,\n",
       "  18.505729913711548),\n",
       " 'test_time': (0.7109711170196533,\n",
       "  0.7154655456542969,\n",
       "  0.576002836227417,\n",
       "  0.7180001735687256,\n",
       "  0.6850981712341309)}"
      ]
     },
     "execution_count": 5,
     "metadata": {},
     "output_type": "execute_result"
    }
   ],
   "source": [
    "from surprise import SVD\n",
    "from surprise import Dataset\n",
    "from surprise.model_selection import cross_validate\n",
    "\n",
    "# Load the movielens-100k dataset (download it if needed).\n",
    "data = Dataset.load_builtin('ml-100k')\n",
    "\n",
    "# Use the famous SVD algorithm.\n",
    "algo = SVD()\n",
    "\n",
    "# Run 5-fold cross-validation and print results.\n",
    "cross_validate(algo, data, measures=['RMSE', 'MAE'], cv=5, verbose=True)"
   ]
  },
  {
   "cell_type": "code",
   "execution_count": 7,
   "metadata": {},
   "outputs": [],
   "source": [
    "### Let's evaluate KNN based model for RMSE and MAE"
   ]
  },
  {
   "cell_type": "code",
   "execution_count": 6,
   "metadata": {},
   "outputs": [
    {
     "name": "stdout",
     "output_type": "stream",
     "text": [
      "Computing the msd similarity matrix...\n",
      "Done computing similarity matrix.\n",
      "Computing the msd similarity matrix...\n",
      "Done computing similarity matrix.\n",
      "Computing the msd similarity matrix...\n",
      "Done computing similarity matrix.\n",
      "Computing the msd similarity matrix...\n",
      "Done computing similarity matrix.\n",
      "Computing the msd similarity matrix...\n",
      "Done computing similarity matrix.\n",
      "Evaluating RMSE, MAE of algorithm KNNBasic on 5 split(s).\n",
      "\n",
      "                  Fold 1  Fold 2  Fold 3  Fold 4  Fold 5  Mean    Std     \n",
      "RMSE (testset)    0.9819  0.9785  0.9716  0.9854  0.9750  0.9785  0.0049  \n",
      "MAE (testset)     0.7746  0.7717  0.7699  0.7792  0.7676  0.7726  0.0040  \n",
      "Fit time          1.00    1.08    1.03    1.08    1.04    1.04    0.03    \n",
      "Test time         7.15    7.55    7.39    7.24    8.18    7.50    0.36    \n"
     ]
    },
    {
     "data": {
      "text/plain": [
       "{'test_rmse': array([0.98190324, 0.97846739, 0.97155039, 0.9854378 , 0.97497504]),\n",
       " 'test_mae': array([0.77464747, 0.77172554, 0.76985174, 0.779182  , 0.76757721]),\n",
       " 'fit_time': (0.9999983310699463,\n",
       "  1.077998399734497,\n",
       "  1.025998592376709,\n",
       "  1.0789971351623535,\n",
       "  1.0419719219207764),\n",
       " 'test_time': (7.148000478744507,\n",
       "  7.546000242233276,\n",
       "  7.393002986907959,\n",
       "  7.2409961223602295,\n",
       "  8.17698621749878)}"
      ]
     },
     "execution_count": 6,
     "metadata": {},
     "output_type": "execute_result"
    }
   ],
   "source": [
    "# Use the famous KNN algorithm.\n",
    "from surprise import KNNBasic\n",
    "algo = KNNBasic()\n",
    "# Run 5-fold cross-validation and print results.\n",
    "cross_validate(algo, data, measures=['RMSE', 'MAE'], cv=5, verbose=True)"
   ]
  },
  {
   "cell_type": "markdown",
   "metadata": {},
   "source": [
    "The SVD model looks to be performing better with RMSE 0.93 better than KNN RMSE which is 0.97"
   ]
  },
  {
   "cell_type": "markdown",
   "metadata": {},
   "source": [
    "Implement support for at least one business or user experience goal such as increased serendipity, novelty, \n",
    "or diversity.\n",
    "\n",
    "Diversity can be represented as 1-Similarity. Diversity can be improved by proposing the less similar movies to\n",
    "the user.\n",
    "Novelty is kind of surprise suggestions to the user. We can achieve this by recommending less popular movies to\n",
    "the user. One way is filtering out the recommendations given by the model and kicking out the popular movies out of\n",
    "that recommedndations.\n",
    "Both improving diversity and novelty will impact the accuracy in negative way. That means accuracy will get reduced."
   ]
  },
  {
   "cell_type": "code",
   "execution_count": null,
   "metadata": {},
   "outputs": [],
   "source": []
  }
 ],
 "metadata": {
  "kernelspec": {
   "display_name": "Python 3",
   "language": "python",
   "name": "python3"
  },
  "language_info": {
   "codemirror_mode": {
    "name": "ipython",
    "version": 3
   },
   "file_extension": ".py",
   "mimetype": "text/x-python",
   "name": "python",
   "nbconvert_exporter": "python",
   "pygments_lexer": "ipython3",
   "version": "3.7.2"
  }
 },
 "nbformat": 4,
 "nbformat_minor": 2
}
