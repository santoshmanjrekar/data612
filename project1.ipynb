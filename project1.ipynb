{
 "cells": [
  {
   "cell_type": "markdown",
   "metadata": {},
   "source": [
    "# Data 612- Project1"
   ]
  },
  {
   "cell_type": "markdown",
   "metadata": {},
   "source": [
    "# #Author : Santosh Manjrekar\n",
    "Date : 6/7/2019"
   ]
  },
  {
   "cell_type": "markdown",
   "metadata": {},
   "source": [
    "### Briefly describe the recommender system that you’re going to build out from a business perspective. I have watched the videos mentioned in the project description and will use similar movie rating data in below exercise."
   ]
  },
  {
   "cell_type": "markdown",
   "metadata": {},
   "source": [
    "I am building the movie recommender system which will recommend movies to users."
   ]
  },
  {
   "cell_type": "markdown",
   "metadata": {},
   "source": [
    "### DataSet"
   ]
  },
  {
   "cell_type": "markdown",
   "metadata": {},
   "source": [
    "I am going to take 6 users (adam,John,David, Josh, Nathan, Jacob) and 5 movies - (Avengers:EndGame, Aladdin, Captain Marvel,Toy Story4, Dumbo)..User can rate movies on scale of 1 to 5. I will be loading data in python dataframe"
   ]
  },
  {
   "cell_type": "markdown",
   "metadata": {},
   "source": [
    "### Load your data into (for example) an R or pandas dataframe "
   ]
  },
  {
   "cell_type": "code",
   "execution_count": 131,
   "metadata": {},
   "outputs": [],
   "source": [
    "import pandas as pd\n",
    "import numpy as np"
   ]
  },
  {
   "cell_type": "code",
   "execution_count": 134,
   "metadata": {},
   "outputs": [],
   "source": [
    "ratings = [ (5, 'UN', 4 ,'UN',4 ) ,\n",
    "            (4, 3, 5 , 3, 4 ) ,\n",
    "            (4, 2, 'UN' ,'UN' ,3 ) ,\n",
    "            (2, 2, 3 ,1,2 ) ,\n",
    "            (4, 'UN' , 5 ,4,5 ) ,\n",
    "            (4, 2 , 5 ,4,4 ) \n",
    "              \n",
    "          ]\n",
    "\n",
    "#UN = UnKnown, TST=Test Data\n",
    "\n",
    "movie_names = ['Avengers' , 'Alladin', 'Captain Marvel' , 'Toy Story', 'Dumbo']\n",
    "user_names = ['Adam', 'John', 'David' , 'Josh' , 'Nathan' , 'Jacob']\n",
    " \n",
    "# Create DataFrame object from a list of tuples\n",
    "df_ratings = pd.DataFrame(ratings, columns = movie_names, \n",
    "                          index=user_names)"
   ]
  },
  {
   "cell_type": "code",
   "execution_count": 136,
   "metadata": {},
   "outputs": [
    {
     "name": "stdout",
     "output_type": "stream",
     "text": [
      "        Avengers Alladin Captain Marvel Toy Story  Dumbo\n",
      "Adam           5      UN              4        UN      4\n",
      "John           4       3              5         3      4\n",
      "David          4       2             UN        UN      3\n",
      "Josh           2       2              3         1      2\n",
      "Nathan         4      UN              5         4      5\n",
      "Jacob          4       2              5         4      4\n"
     ]
    }
   ],
   "source": [
    "print(df_ratings)"
   ]
  },
  {
   "cell_type": "code",
   "execution_count": 137,
   "metadata": {},
   "outputs": [
    {
     "data": {
      "text/html": [
       "<style  type=\"text/css\" >\n",
       "    #T_2acafa2c_8bc3_11e9_907f_089e01f2eb55row0_col0 {\n",
       "            color:  black;\n",
       "        }    #T_2acafa2c_8bc3_11e9_907f_089e01f2eb55row0_col1 {\n",
       "            color:  red;\n",
       "        }    #T_2acafa2c_8bc3_11e9_907f_089e01f2eb55row0_col2 {\n",
       "            color:  black;\n",
       "        }    #T_2acafa2c_8bc3_11e9_907f_089e01f2eb55row0_col3 {\n",
       "            color:  red;\n",
       "        }    #T_2acafa2c_8bc3_11e9_907f_089e01f2eb55row0_col4 {\n",
       "            color:  black;\n",
       "        }    #T_2acafa2c_8bc3_11e9_907f_089e01f2eb55row1_col0 {\n",
       "            color:  black;\n",
       "        }    #T_2acafa2c_8bc3_11e9_907f_089e01f2eb55row1_col1 {\n",
       "            color:  black;\n",
       "        }    #T_2acafa2c_8bc3_11e9_907f_089e01f2eb55row1_col2 {\n",
       "            color:  black;\n",
       "        }    #T_2acafa2c_8bc3_11e9_907f_089e01f2eb55row1_col3 {\n",
       "            color:  black;\n",
       "        }    #T_2acafa2c_8bc3_11e9_907f_089e01f2eb55row1_col4 {\n",
       "            color:  black;\n",
       "        }    #T_2acafa2c_8bc3_11e9_907f_089e01f2eb55row2_col0 {\n",
       "            color:  black;\n",
       "        }    #T_2acafa2c_8bc3_11e9_907f_089e01f2eb55row2_col1 {\n",
       "            color:  black;\n",
       "        }    #T_2acafa2c_8bc3_11e9_907f_089e01f2eb55row2_col2 {\n",
       "            color:  red;\n",
       "        }    #T_2acafa2c_8bc3_11e9_907f_089e01f2eb55row2_col3 {\n",
       "            color:  red;\n",
       "        }    #T_2acafa2c_8bc3_11e9_907f_089e01f2eb55row2_col4 {\n",
       "            color:  black;\n",
       "        }    #T_2acafa2c_8bc3_11e9_907f_089e01f2eb55row3_col0 {\n",
       "            color:  black;\n",
       "        }    #T_2acafa2c_8bc3_11e9_907f_089e01f2eb55row3_col1 {\n",
       "            color:  black;\n",
       "        }    #T_2acafa2c_8bc3_11e9_907f_089e01f2eb55row3_col2 {\n",
       "            color:  black;\n",
       "        }    #T_2acafa2c_8bc3_11e9_907f_089e01f2eb55row3_col3 {\n",
       "            color:  black;\n",
       "        }    #T_2acafa2c_8bc3_11e9_907f_089e01f2eb55row3_col4 {\n",
       "            color:  black;\n",
       "        }    #T_2acafa2c_8bc3_11e9_907f_089e01f2eb55row4_col0 {\n",
       "            color:  black;\n",
       "        }    #T_2acafa2c_8bc3_11e9_907f_089e01f2eb55row4_col1 {\n",
       "            color:  red;\n",
       "        }    #T_2acafa2c_8bc3_11e9_907f_089e01f2eb55row4_col2 {\n",
       "            color:  black;\n",
       "        }    #T_2acafa2c_8bc3_11e9_907f_089e01f2eb55row4_col3 {\n",
       "            color:  black;\n",
       "        }    #T_2acafa2c_8bc3_11e9_907f_089e01f2eb55row4_col4 {\n",
       "            color:  black;\n",
       "        }    #T_2acafa2c_8bc3_11e9_907f_089e01f2eb55row5_col0 {\n",
       "            color:  black;\n",
       "        }    #T_2acafa2c_8bc3_11e9_907f_089e01f2eb55row5_col1 {\n",
       "            color:  black;\n",
       "        }    #T_2acafa2c_8bc3_11e9_907f_089e01f2eb55row5_col2 {\n",
       "            color:  black;\n",
       "        }    #T_2acafa2c_8bc3_11e9_907f_089e01f2eb55row5_col3 {\n",
       "            color:  black;\n",
       "        }    #T_2acafa2c_8bc3_11e9_907f_089e01f2eb55row5_col4 {\n",
       "            color:  black;\n",
       "        }</style><table id=\"T_2acafa2c_8bc3_11e9_907f_089e01f2eb55\" ><thead>    <tr>        <th class=\"blank level0\" ></th>        <th class=\"col_heading level0 col0\" >Avengers</th>        <th class=\"col_heading level0 col1\" >Alladin</th>        <th class=\"col_heading level0 col2\" >Captain Marvel</th>        <th class=\"col_heading level0 col3\" >Toy Story</th>        <th class=\"col_heading level0 col4\" >Dumbo</th>    </tr></thead><tbody>\n",
       "                <tr>\n",
       "                        <th id=\"T_2acafa2c_8bc3_11e9_907f_089e01f2eb55level0_row0\" class=\"row_heading level0 row0\" >Adam</th>\n",
       "                        <td id=\"T_2acafa2c_8bc3_11e9_907f_089e01f2eb55row0_col0\" class=\"data row0 col0\" >5</td>\n",
       "                        <td id=\"T_2acafa2c_8bc3_11e9_907f_089e01f2eb55row0_col1\" class=\"data row0 col1\" >UN</td>\n",
       "                        <td id=\"T_2acafa2c_8bc3_11e9_907f_089e01f2eb55row0_col2\" class=\"data row0 col2\" >4</td>\n",
       "                        <td id=\"T_2acafa2c_8bc3_11e9_907f_089e01f2eb55row0_col3\" class=\"data row0 col3\" >UN</td>\n",
       "                        <td id=\"T_2acafa2c_8bc3_11e9_907f_089e01f2eb55row0_col4\" class=\"data row0 col4\" >4</td>\n",
       "            </tr>\n",
       "            <tr>\n",
       "                        <th id=\"T_2acafa2c_8bc3_11e9_907f_089e01f2eb55level0_row1\" class=\"row_heading level0 row1\" >John</th>\n",
       "                        <td id=\"T_2acafa2c_8bc3_11e9_907f_089e01f2eb55row1_col0\" class=\"data row1 col0\" >4</td>\n",
       "                        <td id=\"T_2acafa2c_8bc3_11e9_907f_089e01f2eb55row1_col1\" class=\"data row1 col1\" >3</td>\n",
       "                        <td id=\"T_2acafa2c_8bc3_11e9_907f_089e01f2eb55row1_col2\" class=\"data row1 col2\" >5</td>\n",
       "                        <td id=\"T_2acafa2c_8bc3_11e9_907f_089e01f2eb55row1_col3\" class=\"data row1 col3\" >3</td>\n",
       "                        <td id=\"T_2acafa2c_8bc3_11e9_907f_089e01f2eb55row1_col4\" class=\"data row1 col4\" >4</td>\n",
       "            </tr>\n",
       "            <tr>\n",
       "                        <th id=\"T_2acafa2c_8bc3_11e9_907f_089e01f2eb55level0_row2\" class=\"row_heading level0 row2\" >David</th>\n",
       "                        <td id=\"T_2acafa2c_8bc3_11e9_907f_089e01f2eb55row2_col0\" class=\"data row2 col0\" >4</td>\n",
       "                        <td id=\"T_2acafa2c_8bc3_11e9_907f_089e01f2eb55row2_col1\" class=\"data row2 col1\" >2</td>\n",
       "                        <td id=\"T_2acafa2c_8bc3_11e9_907f_089e01f2eb55row2_col2\" class=\"data row2 col2\" >UN</td>\n",
       "                        <td id=\"T_2acafa2c_8bc3_11e9_907f_089e01f2eb55row2_col3\" class=\"data row2 col3\" >UN</td>\n",
       "                        <td id=\"T_2acafa2c_8bc3_11e9_907f_089e01f2eb55row2_col4\" class=\"data row2 col4\" >3</td>\n",
       "            </tr>\n",
       "            <tr>\n",
       "                        <th id=\"T_2acafa2c_8bc3_11e9_907f_089e01f2eb55level0_row3\" class=\"row_heading level0 row3\" >Josh</th>\n",
       "                        <td id=\"T_2acafa2c_8bc3_11e9_907f_089e01f2eb55row3_col0\" class=\"data row3 col0\" >2</td>\n",
       "                        <td id=\"T_2acafa2c_8bc3_11e9_907f_089e01f2eb55row3_col1\" class=\"data row3 col1\" >2</td>\n",
       "                        <td id=\"T_2acafa2c_8bc3_11e9_907f_089e01f2eb55row3_col2\" class=\"data row3 col2\" >3</td>\n",
       "                        <td id=\"T_2acafa2c_8bc3_11e9_907f_089e01f2eb55row3_col3\" class=\"data row3 col3\" >1</td>\n",
       "                        <td id=\"T_2acafa2c_8bc3_11e9_907f_089e01f2eb55row3_col4\" class=\"data row3 col4\" >2</td>\n",
       "            </tr>\n",
       "            <tr>\n",
       "                        <th id=\"T_2acafa2c_8bc3_11e9_907f_089e01f2eb55level0_row4\" class=\"row_heading level0 row4\" >Nathan</th>\n",
       "                        <td id=\"T_2acafa2c_8bc3_11e9_907f_089e01f2eb55row4_col0\" class=\"data row4 col0\" >4</td>\n",
       "                        <td id=\"T_2acafa2c_8bc3_11e9_907f_089e01f2eb55row4_col1\" class=\"data row4 col1\" >UN</td>\n",
       "                        <td id=\"T_2acafa2c_8bc3_11e9_907f_089e01f2eb55row4_col2\" class=\"data row4 col2\" >5</td>\n",
       "                        <td id=\"T_2acafa2c_8bc3_11e9_907f_089e01f2eb55row4_col3\" class=\"data row4 col3\" >4</td>\n",
       "                        <td id=\"T_2acafa2c_8bc3_11e9_907f_089e01f2eb55row4_col4\" class=\"data row4 col4\" >5</td>\n",
       "            </tr>\n",
       "            <tr>\n",
       "                        <th id=\"T_2acafa2c_8bc3_11e9_907f_089e01f2eb55level0_row5\" class=\"row_heading level0 row5\" >Jacob</th>\n",
       "                        <td id=\"T_2acafa2c_8bc3_11e9_907f_089e01f2eb55row5_col0\" class=\"data row5 col0\" >4</td>\n",
       "                        <td id=\"T_2acafa2c_8bc3_11e9_907f_089e01f2eb55row5_col1\" class=\"data row5 col1\" >2</td>\n",
       "                        <td id=\"T_2acafa2c_8bc3_11e9_907f_089e01f2eb55row5_col2\" class=\"data row5 col2\" >5</td>\n",
       "                        <td id=\"T_2acafa2c_8bc3_11e9_907f_089e01f2eb55row5_col3\" class=\"data row5 col3\" >4</td>\n",
       "                        <td id=\"T_2acafa2c_8bc3_11e9_907f_089e01f2eb55row5_col4\" class=\"data row5 col4\" >4</td>\n",
       "            </tr>\n",
       "    </tbody></table>"
      ],
      "text/plain": [
       "<pandas.io.formats.style.Styler at 0x4b9e610>"
      ]
     },
     "execution_count": 137,
     "metadata": {},
     "output_type": "execute_result"
    }
   ],
   "source": [
    "#Lets mark the UN or unknown values with the red color\n",
    "def color_red(val):\n",
    "    color = 'red' if val == \"UN\" else 'black'\n",
    "    return 'color: %s' % color\n",
    " \n",
    "df_ratings.style.applymap(color_red)"
   ]
  },
  {
   "cell_type": "markdown",
   "metadata": {},
   "source": [
    "### Break your ratings into separate training and test datasets."
   ]
  },
  {
   "cell_type": "markdown",
   "metadata": {},
   "source": [
    "Let's mark following few ratings as test data and then we will use remaining data as training data"
   ]
  },
  {
   "cell_type": "markdown",
   "metadata": {},
   "source": [
    "David's rating for avenger :4\n",
    "\n",
    "Josh's rating for Alladin :2\n",
    "\n",
    "Nathan's rating for Captain Marvel : 5\n",
    "\n",
    "Jon's Toy Story rating :3\n",
    "\n",
    "Jacob's rating for Dumbo :4\n",
    "\n",
    "For now I will mark this test data as \"TST\", Let's create new dataframe which shows test and UNKNOWN data"
   ]
  },
  {
   "cell_type": "code",
   "execution_count": 139,
   "metadata": {},
   "outputs": [],
   "source": [
    "ratings_train = [ (5, 'UN', 4 ,'UN',4 ) ,\n",
    "            (4, 3, 5 , 'TST', 4 ) ,\n",
    "            ('TST', 2, 'UN' ,'UN' ,3 ) ,\n",
    "            (2, 'TST', 3 ,1,2 ) ,\n",
    "            (4, 'UN' , 'TST' ,4,5 ) ,\n",
    "            (4, 2 , 5 ,4,'TST' ) \n",
    "              \n",
    "          ]\n",
    " \n",
    "# Create DataFrame object from a list of tuples\n",
    "df_train = pd.DataFrame(ratings_train, columns = movie_names, \n",
    "                          index=user_names)"
   ]
  },
  {
   "cell_type": "code",
   "execution_count": 140,
   "metadata": {},
   "outputs": [
    {
     "data": {
      "text/html": [
       "<div>\n",
       "<style scoped>\n",
       "    .dataframe tbody tr th:only-of-type {\n",
       "        vertical-align: middle;\n",
       "    }\n",
       "\n",
       "    .dataframe tbody tr th {\n",
       "        vertical-align: top;\n",
       "    }\n",
       "\n",
       "    .dataframe thead th {\n",
       "        text-align: right;\n",
       "    }\n",
       "</style>\n",
       "<table border=\"1\" class=\"dataframe\">\n",
       "  <thead>\n",
       "    <tr style=\"text-align: right;\">\n",
       "      <th></th>\n",
       "      <th>Avengers</th>\n",
       "      <th>Alladin</th>\n",
       "      <th>Captain Marvel</th>\n",
       "      <th>Toy Story</th>\n",
       "      <th>Dumbo</th>\n",
       "    </tr>\n",
       "  </thead>\n",
       "  <tbody>\n",
       "    <tr>\n",
       "      <th>Adam</th>\n",
       "      <td>5</td>\n",
       "      <td>UN</td>\n",
       "      <td>4</td>\n",
       "      <td>UN</td>\n",
       "      <td>4</td>\n",
       "    </tr>\n",
       "    <tr>\n",
       "      <th>John</th>\n",
       "      <td>4</td>\n",
       "      <td>3</td>\n",
       "      <td>5</td>\n",
       "      <td>TST</td>\n",
       "      <td>4</td>\n",
       "    </tr>\n",
       "    <tr>\n",
       "      <th>David</th>\n",
       "      <td>TST</td>\n",
       "      <td>2</td>\n",
       "      <td>UN</td>\n",
       "      <td>UN</td>\n",
       "      <td>3</td>\n",
       "    </tr>\n",
       "    <tr>\n",
       "      <th>Josh</th>\n",
       "      <td>2</td>\n",
       "      <td>TST</td>\n",
       "      <td>3</td>\n",
       "      <td>1</td>\n",
       "      <td>2</td>\n",
       "    </tr>\n",
       "    <tr>\n",
       "      <th>Nathan</th>\n",
       "      <td>4</td>\n",
       "      <td>UN</td>\n",
       "      <td>TST</td>\n",
       "      <td>4</td>\n",
       "      <td>5</td>\n",
       "    </tr>\n",
       "    <tr>\n",
       "      <th>Jacob</th>\n",
       "      <td>4</td>\n",
       "      <td>2</td>\n",
       "      <td>5</td>\n",
       "      <td>4</td>\n",
       "      <td>TST</td>\n",
       "    </tr>\n",
       "  </tbody>\n",
       "</table>\n",
       "</div>"
      ],
      "text/plain": [
       "       Avengers Alladin Captain Marvel Toy Story Dumbo\n",
       "Adam          5      UN              4        UN     4\n",
       "John          4       3              5       TST     4\n",
       "David       TST       2             UN        UN     3\n",
       "Josh          2     TST              3         1     2\n",
       "Nathan        4      UN            TST         4     5\n",
       "Jacob         4       2              5         4   TST"
      ]
     },
     "execution_count": 140,
     "metadata": {},
     "output_type": "execute_result"
    }
   ],
   "source": [
    "df_train"
   ]
  },
  {
   "cell_type": "markdown",
   "metadata": {},
   "source": [
    "### Calculate the  raw average mean for training data"
   ]
  },
  {
   "cell_type": "code",
   "execution_count": 61,
   "metadata": {},
   "outputs": [
    {
     "name": "stdout",
     "output_type": "stream",
     "text": [
      "Raw avg mean for training set is 3.5\n"
     ]
    }
   ],
   "source": [
    "#Calculate the  raw average mean for training data\n",
    "raw_avg_mean_train = ((5+4+2+4+4)+(3+2+2)+(4+5+3+5)+(1+4+4)+(4+4+3+2+5))/20\n",
    "print(\"Raw avg mean for training set is \"+ str(raw_avg_mean_train))"
   ]
  },
  {
   "cell_type": "markdown",
   "metadata": {},
   "source": [
    "raw average for each user=item combination is 3.5"
   ]
  },
  {
   "cell_type": "markdown",
   "metadata": {},
   "source": [
    "### Calculate the RMSE for raw average for both your training data and your test data."
   ]
  },
  {
   "cell_type": "code",
   "execution_count": null,
   "metadata": {},
   "outputs": [],
   "source": [
    "Let's calculate RMSE for for test data (4,2,5,3,4) and training data (5,4,2,4,4,3,2,2,4,5,3,5,1,4,4,4,4,3,2,5)"
   ]
  },
  {
   "cell_type": "code",
   "execution_count": 45,
   "metadata": {},
   "outputs": [],
   "source": [
    "from math import sqrt"
   ]
  },
  {
   "cell_type": "code",
   "execution_count": 40,
   "metadata": {},
   "outputs": [],
   "source": [
    "def rmse(predictions, targets):\n",
    "    return np.sqrt(((predictions - targets) ** 2).mean())"
   ]
  },
  {
   "cell_type": "code",
   "execution_count": 51,
   "metadata": {},
   "outputs": [],
   "source": [
    "train_ratings = np.array([5,4,2,4,4,3,2,2,4,5,3,5,1,4,4,4,4,3,2,5])\n",
    "train_raw_avg = np.array([3.5,3.5,3.5,3.5,3.5,3.5,3.5,3.5,3.5,3.5,3.5,3.5,3.5,3.5,3.5,3.5,3.5,3.5,3.5,3.5])"
   ]
  },
  {
   "cell_type": "code",
   "execution_count": 56,
   "metadata": {},
   "outputs": [
    {
     "name": "stdout",
     "output_type": "stream",
     "text": [
      "Training RMSE is 1.161895003862225\n"
     ]
    }
   ],
   "source": [
    "train_rmse = rmse(train_ratings, train_raw_avg)\n",
    "print(\"Training RMSE is \" + str(train_rmse))"
   ]
  },
  {
   "cell_type": "code",
   "execution_count": 46,
   "metadata": {},
   "outputs": [],
   "source": [
    "test_ratings = np.array([4,2,5,3,4])\n",
    "target_raw_avg = np.array([3.5,3.5,3.5,3.5,3.5])\n"
   ]
  },
  {
   "cell_type": "code",
   "execution_count": null,
   "metadata": {},
   "outputs": [],
   "source": [
    "train_rmse = rmse(train_ratings, train_raw_avg)"
   ]
  },
  {
   "cell_type": "code",
   "execution_count": 47,
   "metadata": {},
   "outputs": [],
   "source": [
    "test_rmse = rmse(test_ratings, target_raw_avg)"
   ]
  },
  {
   "cell_type": "code",
   "execution_count": 59,
   "metadata": {},
   "outputs": [
    {
     "name": "stdout",
     "output_type": "stream",
     "text": [
      "Testing RMSE is 1.02469507659596\n"
     ]
    }
   ],
   "source": [
    "print(\"Testing RMSE is \" +str(test_rmse))"
   ]
  },
  {
   "cell_type": "markdown",
   "metadata": {},
   "source": [
    "### Using your training data, calculate the bias for each user and each movie.\n"
   ]
  },
  {
   "cell_type": "code",
   "execution_count": 103,
   "metadata": {},
   "outputs": [],
   "source": [
    "def calculate_bias(rating_values, raw_avg):\n",
    "    count =0;\n",
    "    sum =0\n",
    "    for value in rating_values:\n",
    "        if( value != 'TST' and value != 'UN' ) :\n",
    "            sum = sum + value\n",
    "            count = count +1\n",
    "    return ((sum/count) - raw_avg)\n",
    "        \n",
    "    "
   ]
  },
  {
   "cell_type": "code",
   "execution_count": 143,
   "metadata": {},
   "outputs": [
    {
     "name": "stdout",
     "output_type": "stream",
     "text": [
      "{'user:Adam': 0.833333333333333, 'user:John': 0.5, 'user:David': -1.0, 'user:Josh': -1.5, 'user:Nathan': 0.833333333333333, 'user:Jacob': 0.25}\n"
     ]
    }
   ],
   "source": [
    "#get bias for each user (row values)\n",
    "bias_user = {}\n",
    "bias_user[\"user:Adam\"] = (calculate_bias(list(df_train.iloc[0, :]), raw_avg_mean_train))\n",
    "bias_user[\"user:John\"] = (calculate_bias(list(df_train.iloc[1, :]), raw_avg_mean_train))\n",
    "bias_user[\"user:David\"] = (calculate_bias(list(df_train.iloc[2, :]), raw_avg_mean_train))\n",
    "bias_user[\"user:Josh\"] = (calculate_bias(list(df_train.iloc[3, :]), raw_avg_mean_train))\n",
    "bias_user[\"user:Nathan\"] = (calculate_bias(list(df_train.iloc[4, :]), raw_avg_mean_train))\n",
    "bias_user[\"user:Jacob\"] = (calculate_bias(list(df_train.iloc[5, :]), raw_avg_mean_train))\n",
    "\n",
    "#print(\"Bias for user Adam: \"+ str(calculate_bias(list(df_train.iloc[0, :]), raw_avg_mean_train)))\n",
    "#print(\"Bias for user John: \"+ str(calculate_bias(list(df_train.iloc[1, :]), raw_avg_mean_train)))\n",
    "#print(\"Bias for user David: \"+ str(calculate_bias(list(df_train.iloc[2, :]), raw_avg_mean_train)))\n",
    "#print(\"Bias for user Josh: \"+ str(calculate_bias(list(df_train.iloc[3, :]), raw_avg_mean_train)))\n",
    "#print(\"Bias for user Nathan: \"+ str(calculate_bias(list(df_train.iloc[4, :]), raw_avg_mean_train)))\n",
    "#print(\"Bias for user Jacob: \"+ str(calculate_bias(list(df_train.iloc[5, :]), raw_avg_mean_train)))\n",
    "print(bias_user)"
   ]
  },
  {
   "cell_type": "code",
   "execution_count": 150,
   "metadata": {},
   "outputs": [
    {
     "name": "stdout",
     "output_type": "stream",
     "text": [
      "{'movie:Avengers': 0.2999999999999998, 'movie:Alladin': -1.1666666666666665, 'movie:Captain Marvel': 0.75, 'movie:Toy Story': -0.5, 'movie:Dumbo': 0.10000000000000009}\n"
     ]
    }
   ],
   "source": [
    "#get bias for movie (column values)\n",
    "bias_movies = {}\n",
    "bias_movies[\"movie:Avengers\"] = calculate_bias(list(df_train[\"Avengers\"]), raw_avg_mean_train)\n",
    "bias_movies[\"movie:Alladin\"] = calculate_bias(list(df_train[\"Alladin\"]), raw_avg_mean_train)\n",
    "bias_movies[\"movie:Captain Marvel\"] = calculate_bias(list(df_train[\"Captain Marvel\"]), raw_avg_mean_train)\n",
    "bias_movies[\"movie:Toy Story\"] = calculate_bias(list(df_train[\"Toy Story\"]), raw_avg_mean_train)\n",
    "bias_movies[\"movie:Dumbo\"] = calculate_bias(list(df_train[\"Dumbo\"]), raw_avg_mean_train)\n",
    "print(bias_movies)\n",
    "\n",
    "\n",
    "#print(\"Bias for movie Avengers: \" +str(calculate_bias(list(df_train[\"Avengers\"]), raw_avg_mean_train)))\n",
    "#print(\"Bias for movie Alladin: \" +str(calculate_bias(list(df_train[\"Alladin\"]), raw_avg_mean_train)))\n",
    "#print(\"Bias for movie Captain Marvel: \" +str(calculate_bias(list(df_train[\"Captain Marvel\"]), raw_avg_mean_train)))\n",
    "#print(\"Bias for movie Toy Story: \" +str(calculate_bias(list(df_train[\"Toy Story\"]), raw_avg_mean_train)))\n",
    "#print(\"Bias for movie Dumbo: \" +str(calculate_bias(list(df_train[\"Dumbo\"]), raw_avg_mean_train)))"
   ]
  },
  {
   "cell_type": "markdown",
   "metadata": {},
   "source": [
    "### calculate the baseline predictors for every user-item combination. "
   ]
  },
  {
   "cell_type": "markdown",
   "metadata": {},
   "source": [
    "Let's calculate the movie rating for the test data\n",
    "\n",
    "Formula is as follows\n",
    "\n",
    "rating = test_avg + movie_bias + user_bias"
   ]
  },
  {
   "cell_type": "code",
   "execution_count": 151,
   "metadata": {},
   "outputs": [
    {
     "name": "stdout",
     "output_type": "stream",
     "text": [
      "       Avengers Alladin Captain Marvel Toy Story Dumbo\n",
      "Adam          5      UN              4        UN     4\n",
      "John          4       3              5       TST     4\n",
      "David       TST       2             UN        UN     3\n",
      "Josh          2     TST              3         1     2\n",
      "Nathan        4      UN            TST         4     5\n",
      "Jacob         4       2              5         4   TST\n"
     ]
    }
   ],
   "source": [
    "print(df_train)"
   ]
  },
  {
   "cell_type": "code",
   "execution_count": 160,
   "metadata": {},
   "outputs": [
    {
     "name": "stdout",
     "output_type": "stream",
     "text": [
      "{'Avengers': 4.633333333333333, 'Alladin': 3.1666666666666665, 'Captain Marvel': 5.083333333333333, 'Toy Story': 3.833333333333333, 'Dumbo': 4.433333333333334}\n",
      "{'Avengers': 4.3, 'Alladin': 2.8333333333333335, 'Captain Marvel': 4.75, 'Toy Story': 3.5, 'Dumbo': 4.1}\n",
      "{'Avengers': 2.8, 'Alladin': 1.3333333333333335, 'Captain Marvel': 3.25, 'Toy Story': 2.0, 'Dumbo': 2.6}\n",
      "{'Avengers': 2.3, 'Alladin': 0.8333333333333335, 'Captain Marvel': 2.75, 'Toy Story': 1.5, 'Dumbo': 2.1}\n",
      "{'Avengers': 4.633333333333333, 'Alladin': 3.1666666666666665, 'Captain Marvel': 5.083333333333333, 'Toy Story': 3.833333333333333, 'Dumbo': 4.433333333333334}\n",
      "{'Avengers': 4.05, 'Alladin': 2.5833333333333335, 'Captain Marvel': 4.5, 'Toy Story': 3.25, 'Dumbo': 3.85}\n"
     ]
    }
   ],
   "source": [
    "#Calculate Adam's movie rating\n",
    "adam_rating = {}\n",
    "adam_rating[\"Avengers\"] = raw_avg_mean_train + bias_movies[\"movie:Avengers\"] + bias_user[\"user:Adam\"]\n",
    "adam_rating[\"Alladin\"] = raw_avg_mean_train + bias_movies[\"movie:Alladin\"] + bias_user[\"user:Adam\"]\n",
    "adam_rating[\"Captain Marvel\"] = raw_avg_mean_train + bias_movies[\"movie:Captain Marvel\"] + bias_user[\"user:Adam\"]\n",
    "adam_rating[\"Toy Story\"] = raw_avg_mean_train + bias_movies[\"movie:Toy Story\"] + bias_user[\"user:Adam\"]\n",
    "adam_rating[\"Dumbo\"] = raw_avg_mean_train + bias_movies[\"movie:Dumbo\"] + bias_user[\"user:Adam\"]\n",
    "print(adam_rating)\n",
    "\n",
    "john_rating = {}\n",
    "john_rating[\"Avengers\"] = raw_avg_mean_train + bias_movies[\"movie:Avengers\"] + bias_user[\"user:John\"]\n",
    "john_rating[\"Alladin\"] = raw_avg_mean_train + bias_movies[\"movie:Alladin\"] + bias_user[\"user:John\"]\n",
    "john_rating[\"Captain Marvel\"] = raw_avg_mean_train + bias_movies[\"movie:Captain Marvel\"] + bias_user[\"user:John\"]\n",
    "john_rating[\"Toy Story\"] = raw_avg_mean_train + bias_movies[\"movie:Toy Story\"] + bias_user[\"user:John\"]\n",
    "john_rating[\"Dumbo\"] = raw_avg_mean_train + bias_movies[\"movie:Dumbo\"] + bias_user[\"user:John\"]\n",
    "print(john_rating)\n",
    "\n",
    "david_rating = {}\n",
    "david_rating[\"Avengers\"] = raw_avg_mean_train + bias_movies[\"movie:Avengers\"] + bias_user[\"user:David\"]\n",
    "david_rating[\"Alladin\"] = raw_avg_mean_train + bias_movies[\"movie:Alladin\"] + bias_user[\"user:David\"]\n",
    "david_rating[\"Captain Marvel\"] = raw_avg_mean_train + bias_movies[\"movie:Captain Marvel\"] + bias_user[\"user:David\"]\n",
    "david_rating[\"Toy Story\"] = raw_avg_mean_train + bias_movies[\"movie:Toy Story\"] + bias_user[\"user:David\"]\n",
    "david_rating[\"Dumbo\"] = raw_avg_mean_train + bias_movies[\"movie:Dumbo\"] + bias_user[\"user:David\"]\n",
    "print(david_rating)\n",
    "\n",
    "josh_rating = {}\n",
    "josh_rating[\"Avengers\"] = raw_avg_mean_train + bias_movies[\"movie:Avengers\"] + bias_user[\"user:Josh\"]\n",
    "josh_rating[\"Alladin\"] = raw_avg_mean_train + bias_movies[\"movie:Alladin\"] + bias_user[\"user:Josh\"]\n",
    "josh_rating[\"Captain Marvel\"] = raw_avg_mean_train + bias_movies[\"movie:Captain Marvel\"] + bias_user[\"user:Josh\"]\n",
    "josh_rating[\"Toy Story\"] = raw_avg_mean_train + bias_movies[\"movie:Toy Story\"] + bias_user[\"user:Josh\"]\n",
    "josh_rating[\"Dumbo\"] = raw_avg_mean_train + bias_movies[\"movie:Dumbo\"] + bias_user[\"user:Josh\"]\n",
    "print(josh_rating)\n",
    "\n",
    "nathan_rating = {}\n",
    "nathan_rating[\"Avengers\"] = raw_avg_mean_train + bias_movies[\"movie:Avengers\"] + bias_user[\"user:Nathan\"]\n",
    "nathan_rating[\"Alladin\"] = raw_avg_mean_train + bias_movies[\"movie:Alladin\"] + bias_user[\"user:Nathan\"]\n",
    "nathan_rating[\"Captain Marvel\"] = raw_avg_mean_train + bias_movies[\"movie:Captain Marvel\"] + bias_user[\"user:Nathan\"]\n",
    "nathan_rating[\"Toy Story\"] = raw_avg_mean_train + bias_movies[\"movie:Toy Story\"] + bias_user[\"user:Nathan\"]\n",
    "nathan_rating[\"Dumbo\"] = raw_avg_mean_train + bias_movies[\"movie:Dumbo\"] + bias_user[\"user:Nathan\"]\n",
    "print(nathan_rating)\n",
    "\n",
    "jacob_rating = {}\n",
    "jacob_rating[\"Avengers\"] = raw_avg_mean_train + bias_movies[\"movie:Avengers\"] + bias_user[\"user:Jacob\"]\n",
    "jacob_rating[\"Alladin\"] = raw_avg_mean_train + bias_movies[\"movie:Alladin\"] + bias_user[\"user:Jacob\"]\n",
    "jacob_rating[\"Captain Marvel\"] = raw_avg_mean_train + bias_movies[\"movie:Captain Marvel\"] + bias_user[\"user:Jacob\"]\n",
    "jacob_rating[\"Toy Story\"] = raw_avg_mean_train + bias_movies[\"movie:Toy Story\"] + bias_user[\"user:Jacob\"]\n",
    "jacob_rating[\"Dumbo\"] = raw_avg_mean_train + bias_movies[\"movie:Dumbo\"] + bias_user[\"user:Jacob\"]\n",
    "print(jacob_rating)\n"
   ]
  },
  {
   "cell_type": "code",
   "execution_count": null,
   "metadata": {},
   "outputs": [],
   "source": []
  },
  {
   "cell_type": "code",
   "execution_count": null,
   "metadata": {},
   "outputs": [],
   "source": []
  }
 ],
 "metadata": {
  "kernelspec": {
   "display_name": "Python 3",
   "language": "python",
   "name": "python3"
  },
  "language_info": {
   "codemirror_mode": {
    "name": "ipython",
    "version": 3
   },
   "file_extension": ".py",
   "mimetype": "text/x-python",
   "name": "python",
   "nbconvert_exporter": "python",
   "pygments_lexer": "ipython3",
   "version": "3.7.2"
  }
 },
 "nbformat": 4,
 "nbformat_minor": 2
}
