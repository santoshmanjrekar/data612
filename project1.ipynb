{
 "cells": [
  {
   "cell_type": "markdown",
   "metadata": {},
   "source": [
    "# Data 612- Project1"
   ]
  },
  {
   "cell_type": "markdown",
   "metadata": {},
   "source": [
    "# #Author : Santosh Manjrekar\n",
    "Date : 6/7/2019"
   ]
  },
  {
   "cell_type": "markdown",
   "metadata": {},
   "source": [
    "### Briefly describe the recommender system that you’re going to build out from a business perspective. I have watched the videos mentioned in the project description and will use similar movie rating data in below exercise."
   ]
  },
  {
   "cell_type": "markdown",
   "metadata": {},
   "source": [
    "I am building the movie recommender system which will recommend movies to users."
   ]
  },
  {
   "cell_type": "code",
   "execution_count": 1,
   "metadata": {},
   "outputs": [],
   "source": [
    "def rmse(predictions, targets):\n",
    "    return np.sqrt(((predictions - targets) ** 2).mean())"
   ]
  },
  {
   "cell_type": "code",
   "execution_count": 2,
   "metadata": {},
   "outputs": [],
   "source": [
    "def calculate_bias(rating_values, raw_avg):\n",
    "    count =0;\n",
    "    sum =0\n",
    "    for value in rating_values:\n",
    "        if( value != 'TST' and value != 'UN' ) :\n",
    "            sum = sum + value\n",
    "            count = count +1\n",
    "    return ((sum/count) - raw_avg)\n",
    "        "
   ]
  },
  {
   "cell_type": "markdown",
   "metadata": {},
   "source": [
    "### DataSet"
   ]
  },
  {
   "cell_type": "markdown",
   "metadata": {},
   "source": [
    "I am going to take 6 users (adam,John,David, Josh, Nathan, Jacob) and 5 movies - (Avengers:EndGame, Aladdin, Captain Marvel,Toy Story4, Dumbo)..User can rate movies on scale of 1 to 5. I will be loading data in python dataframe"
   ]
  },
  {
   "cell_type": "markdown",
   "metadata": {},
   "source": [
    "### Load your data into (for example) an R or pandas dataframe "
   ]
  },
  {
   "cell_type": "code",
   "execution_count": 3,
   "metadata": {},
   "outputs": [],
   "source": [
    "import pandas as pd\n",
    "import numpy as np"
   ]
  },
  {
   "cell_type": "code",
   "execution_count": 4,
   "metadata": {},
   "outputs": [],
   "source": [
    "ratings = [ (5, 'UN', 4 ,'UN',4 ) ,\n",
    "            (4, 3, 5 , 3, 4 ) ,\n",
    "            (4, 2, 'UN' ,'UN' ,3 ) ,\n",
    "            (2, 2, 3 ,1,2 ) ,\n",
    "            (4, 'UN' , 5 ,4,5 ) ,\n",
    "            (4, 2 , 5 ,4,4 ) \n",
    "              \n",
    "          ]\n",
    "\n",
    "#UN = UnKnown, TST=Test Data\n",
    "\n",
    "movie_names = ['Avengers' , 'Alladin', 'Captain Marvel' , 'Toy Story', 'Dumbo']\n",
    "user_names = ['Adam', 'John', 'David' , 'Josh' , 'Nathan' , 'Jacob']\n",
    " \n",
    "# Create DataFrame object from a list of tuples\n",
    "df_ratings = pd.DataFrame(ratings, columns = movie_names, \n",
    "                          index=user_names)"
   ]
  },
  {
   "cell_type": "code",
   "execution_count": null,
   "metadata": {},
   "outputs": [
    {
     "name": "stdout",
     "output_type": "stream",
     "text": [
      "        Avengers Alladin Captain Marvel Toy Story  Dumbo\n",
      "Adam           5      UN              4        UN      4\n",
      "John           4       3              5         3      4\n",
      "David          4       2             UN        UN      3\n",
      "Josh           2       2              3         1      2\n",
      "Nathan         4      UN              5         4      5\n",
      "Jacob          4       2              5         4      4\n"
     ]
    }
   ],
   "source": [
    "print(df_ratings)"
   ]
  },
  {
   "cell_type": "code",
   "execution_count": null,
   "metadata": {},
   "outputs": [],
   "source": [
    "#Lets mark the UN or unknown values with the red color\n",
    "def color_red(val):\n",
    "    color = 'red' if val == \"UN\" else 'black'\n",
    "    return 'color: %s' % color\n",
    " \n",
    "df_ratings.style.applymap(color_red)"
   ]
  },
  {
   "cell_type": "markdown",
   "metadata": {},
   "source": [
    "### Break your ratings into separate training and test datasets."
   ]
  },
  {
   "cell_type": "markdown",
   "metadata": {},
   "source": [
    "Let's mark following few ratings as test data and then we will use remaining data as training data"
   ]
  },
  {
   "cell_type": "markdown",
   "metadata": {},
   "source": [
    "David's rating for avenger :4\n",
    "\n",
    "Josh's rating for Alladin :2\n",
    "\n",
    "Nathan's rating for Captain Marvel : 5\n",
    "\n",
    "Jon's Toy Story rating :3\n",
    "\n",
    "Jacob's rating for Dumbo :4\n",
    "\n",
    "For now I will mark this test data as \"TST\", Let's create new dataframe which shows test and UNKNOWN data"
   ]
  },
  {
   "cell_type": "code",
   "execution_count": null,
   "metadata": {},
   "outputs": [],
   "source": [
    "ratings_train = [ (5, 'UN', 4 ,'UN',4 ) ,\n",
    "            (4, 3, 5 , 'TST', 4 ) ,\n",
    "            ('TST', 2, 'UN' ,'UN' ,3 ) ,\n",
    "            (2, 'TST', 3 ,1,2 ) ,\n",
    "            (4, 'UN' , 'TST' ,4,5 ) ,\n",
    "            (4, 2 , 5 ,4,'TST' ) \n",
    "              \n",
    "          ]\n",
    " \n",
    "# Create DataFrame object from a list of tuples\n",
    "df_train = pd.DataFrame(ratings_train, columns = movie_names, \n",
    "                          index=user_names)"
   ]
  },
  {
   "cell_type": "code",
   "execution_count": null,
   "metadata": {},
   "outputs": [],
   "source": [
    "df_train"
   ]
  },
  {
   "cell_type": "markdown",
   "metadata": {},
   "source": [
    "### Calculate the  raw average mean for training data"
   ]
  },
  {
   "cell_type": "code",
   "execution_count": null,
   "metadata": {},
   "outputs": [],
   "source": [
    "#Calculate the  raw average mean for training data\n",
    "raw_avg_mean_train = ((5+4+2+4+4)+(3+2+2)+(4+5+3+5)+(1+4+4)+(4+4+3+2+5))/20\n",
    "print(\"Raw avg mean for training set is \"+ str(raw_avg_mean_train))"
   ]
  },
  {
   "cell_type": "markdown",
   "metadata": {},
   "source": [
    "raw average for each user=item combination is 3.5"
   ]
  },
  {
   "cell_type": "markdown",
   "metadata": {},
   "source": [
    "### Calculate the RMSE for raw average for both your training data and your test data."
   ]
  },
  {
   "cell_type": "markdown",
   "metadata": {},
   "source": [
    "Let's calculate RMSE for for test data (4,2,5,3,4) and training data (5,4,2,4,4,3,2,2,4,5,3,5,1,4,4,4,4,3,2,5)"
   ]
  },
  {
   "cell_type": "code",
   "execution_count": null,
   "metadata": {},
   "outputs": [],
   "source": [
    "from math import sqrt"
   ]
  },
  {
   "cell_type": "code",
   "execution_count": null,
   "metadata": {},
   "outputs": [],
   "source": [
    "train_ratings = np.array([5,4,2,4,4,3,2,2,4,5,3,5,1,4,4,4,4,3,2,5])\n",
    "train_raw_avg = np.array([3.5,3.5,3.5,3.5,3.5,3.5,3.5,3.5,3.5,3.5,3.5,3.5,3.5,3.5,3.5,3.5,3.5,3.5,3.5,3.5])"
   ]
  },
  {
   "cell_type": "code",
   "execution_count": null,
   "metadata": {},
   "outputs": [],
   "source": [
    "train_rmse = rmse(train_ratings, train_raw_avg)\n",
    "print(\"Training RMSE is \" + str(train_rmse))"
   ]
  },
  {
   "cell_type": "code",
   "execution_count": null,
   "metadata": {},
   "outputs": [],
   "source": [
    "test_ratings = np.array([4,2,5,3,4])\n",
    "target_raw_avg = np.array([3.5,3.5,3.5,3.5,3.5])\n"
   ]
  },
  {
   "cell_type": "code",
   "execution_count": null,
   "metadata": {},
   "outputs": [],
   "source": [
    "train_rmse = rmse(train_ratings, train_raw_avg)"
   ]
  },
  {
   "cell_type": "code",
   "execution_count": null,
   "metadata": {},
   "outputs": [],
   "source": [
    "test_rmse = rmse(test_ratings, target_raw_avg)"
   ]
  },
  {
   "cell_type": "code",
   "execution_count": null,
   "metadata": {},
   "outputs": [],
   "source": [
    "print(\"Testing RMSE is \" +str(test_rmse))"
   ]
  },
  {
   "cell_type": "markdown",
   "metadata": {},
   "source": [
    "### Using your training data, calculate the bias for each user and each movie.\n"
   ]
  },
  {
   "cell_type": "code",
   "execution_count": null,
   "metadata": {},
   "outputs": [],
   "source": [
    "def printDictionary(d,col1,col2):\n",
    "    print (\"{:<15} {:<15}\".format(col1,col2))\n",
    "    for k, v in d.items():\n",
    "        #lang, perc, change = v\n",
    "        print (\"{:<15} {:<15}\".format(k, v))\n"
   ]
  },
  {
   "cell_type": "code",
   "execution_count": null,
   "metadata": {},
   "outputs": [],
   "source": [
    "#get bias for each user (row values)\n",
    "bias_user = {}\n",
    "bias_user[\"user:Adam\"] = (calculate_bias(list(df_train.iloc[0, :]), raw_avg_mean_train))\n",
    "bias_user[\"user:John\"] = (calculate_bias(list(df_train.iloc[1, :]), raw_avg_mean_train))\n",
    "bias_user[\"user:David\"] = (calculate_bias(list(df_train.iloc[2, :]), raw_avg_mean_train))\n",
    "bias_user[\"user:Josh\"] = (calculate_bias(list(df_train.iloc[3, :]), raw_avg_mean_train))\n",
    "bias_user[\"user:Nathan\"] = (calculate_bias(list(df_train.iloc[4, :]), raw_avg_mean_train))\n",
    "bias_user[\"user:Jacob\"] = (calculate_bias(list(df_train.iloc[5, :]), raw_avg_mean_train))\n",
    "\n",
    "#print(\"Bias for user Adam: \"+ str(calculate_bias(list(df_train.iloc[0, :]), raw_avg_mean_train)))\n",
    "#print(\"Bias for user John: \"+ str(calculate_bias(list(df_train.iloc[1, :]), raw_avg_mean_train)))\n",
    "#print(\"Bias for user David: \"+ str(calculate_bias(list(df_train.iloc[2, :]), raw_avg_mean_train)))\n",
    "#print(\"Bias for user Josh: \"+ str(calculate_bias(list(df_train.iloc[3, :]), raw_avg_mean_train)))\n",
    "#print(\"Bias for user Nathan: \"+ str(calculate_bias(list(df_train.iloc[4, :]), raw_avg_mean_train)))\n",
    "#print(\"Bias for user Jacob: \"+ str(calculate_bias(list(df_train.iloc[5, :]), raw_avg_mean_train)))\n",
    "#print(bias_user)\n",
    "printDictionary(bias_user,\"User\",\"Rating\")"
   ]
  },
  {
   "cell_type": "code",
   "execution_count": null,
   "metadata": {},
   "outputs": [],
   "source": [
    "#get bias for movie (column values)\n",
    "bias_movies = {}\n",
    "bias_movies[\"movie:Avengers\"] = calculate_bias(list(df_train[\"Avengers\"]), raw_avg_mean_train)\n",
    "bias_movies[\"movie:Alladin\"] = calculate_bias(list(df_train[\"Alladin\"]), raw_avg_mean_train)\n",
    "bias_movies[\"movie:Captain Marvel\"] = calculate_bias(list(df_train[\"Captain Marvel\"]), raw_avg_mean_train)\n",
    "bias_movies[\"movie:Toy Story\"] = calculate_bias(list(df_train[\"Toy Story\"]), raw_avg_mean_train)\n",
    "bias_movies[\"movie:Dumbo\"] = calculate_bias(list(df_train[\"Dumbo\"]), raw_avg_mean_train)\n",
    "printDictionary(bias_movies, \"Movie\", \"Rating\")\n",
    "\n",
    "\n"
   ]
  },
  {
   "cell_type": "markdown",
   "metadata": {},
   "source": [
    "### calculate the baseline predictors for every user-item combination. "
   ]
  },
  {
   "cell_type": "markdown",
   "metadata": {},
   "source": [
    "Let's calculate the movie rating for the test data\n",
    "\n",
    "Formula is as follows\n",
    "\n",
    "rating = test_avg + movie_bias + user_bias"
   ]
  },
  {
   "cell_type": "code",
   "execution_count": null,
   "metadata": {},
   "outputs": [],
   "source": [
    "print(df_train)"
   ]
  },
  {
   "cell_type": "code",
   "execution_count": null,
   "metadata": {},
   "outputs": [],
   "source": [
    "#Calculate Adam's movie rating using our bias method\n",
    "adam_rating = {}\n",
    "adam_rating[\"Avengers\"] = raw_avg_mean_train + bias_movies[\"movie:Avengers\"] + bias_user[\"user:Adam\"]\n",
    "adam_rating[\"Alladin\"] = raw_avg_mean_train + bias_movies[\"movie:Alladin\"] + bias_user[\"user:Adam\"]\n",
    "adam_rating[\"Captain Marvel\"] = raw_avg_mean_train + bias_movies[\"movie:Captain Marvel\"] + bias_user[\"user:Adam\"]\n",
    "adam_rating[\"Toy Story\"] = raw_avg_mean_train + bias_movies[\"movie:Toy Story\"] + bias_user[\"user:Adam\"]\n",
    "adam_rating[\"Dumbo\"] = raw_avg_mean_train + bias_movies[\"movie:Dumbo\"] + bias_user[\"user:Adam\"]\n",
    "print(\"Adam's movie ratings\")\n",
    "print(adam_rating)\n",
    "\n",
    "john_rating = {}\n",
    "john_rating[\"Avengers\"] = raw_avg_mean_train + bias_movies[\"movie:Avengers\"] + bias_user[\"user:John\"]\n",
    "john_rating[\"Alladin\"] = raw_avg_mean_train + bias_movies[\"movie:Alladin\"] + bias_user[\"user:John\"]\n",
    "john_rating[\"Captain Marvel\"] = raw_avg_mean_train + bias_movies[\"movie:Captain Marvel\"] + bias_user[\"user:John\"]\n",
    "john_rating[\"Toy Story\"] = raw_avg_mean_train + bias_movies[\"movie:Toy Story\"] + bias_user[\"user:John\"]\n",
    "john_rating[\"Dumbo\"] = raw_avg_mean_train + bias_movies[\"movie:Dumbo\"] + bias_user[\"user:John\"]\n",
    "print(\"John's movie ratings\")\n",
    "print(john_rating)\n",
    "\n",
    "david_rating = {}\n",
    "david_rating[\"Avengers\"] = raw_avg_mean_train + bias_movies[\"movie:Avengers\"] + bias_user[\"user:David\"]\n",
    "david_rating[\"Alladin\"] = raw_avg_mean_train + bias_movies[\"movie:Alladin\"] + bias_user[\"user:David\"]\n",
    "david_rating[\"Captain Marvel\"] = raw_avg_mean_train + bias_movies[\"movie:Captain Marvel\"] + bias_user[\"user:David\"]\n",
    "david_rating[\"Toy Story\"] = raw_avg_mean_train + bias_movies[\"movie:Toy Story\"] + bias_user[\"user:David\"]\n",
    "david_rating[\"Dumbo\"] = raw_avg_mean_train + bias_movies[\"movie:Dumbo\"] + bias_user[\"user:David\"]\n",
    "print(\"David's movie ratings\")\n",
    "print(david_rating)\n",
    "\n",
    "josh_rating = {}\n",
    "josh_rating[\"Avengers\"] = raw_avg_mean_train + bias_movies[\"movie:Avengers\"] + bias_user[\"user:Josh\"]\n",
    "josh_rating[\"Alladin\"] = raw_avg_mean_train + bias_movies[\"movie:Alladin\"] + bias_user[\"user:Josh\"]\n",
    "josh_rating[\"Captain Marvel\"] = raw_avg_mean_train + bias_movies[\"movie:Captain Marvel\"] + bias_user[\"user:Josh\"]\n",
    "josh_rating[\"Toy Story\"] = raw_avg_mean_train + bias_movies[\"movie:Toy Story\"] + bias_user[\"user:Josh\"]\n",
    "josh_rating[\"Dumbo\"] = raw_avg_mean_train + bias_movies[\"movie:Dumbo\"] + bias_user[\"user:Josh\"]\n",
    "print(\"Josh's movie ratings\")\n",
    "print(josh_rating)\n",
    "\n",
    "nathan_rating = {}\n",
    "nathan_rating[\"Avengers\"] = raw_avg_mean_train + bias_movies[\"movie:Avengers\"] + bias_user[\"user:Nathan\"]\n",
    "nathan_rating[\"Alladin\"] = raw_avg_mean_train + bias_movies[\"movie:Alladin\"] + bias_user[\"user:Nathan\"]\n",
    "nathan_rating[\"Captain Marvel\"] = raw_avg_mean_train + bias_movies[\"movie:Captain Marvel\"] + bias_user[\"user:Nathan\"]\n",
    "nathan_rating[\"Toy Story\"] = raw_avg_mean_train + bias_movies[\"movie:Toy Story\"] + bias_user[\"user:Nathan\"]\n",
    "nathan_rating[\"Dumbo\"] = raw_avg_mean_train + bias_movies[\"movie:Dumbo\"] + bias_user[\"user:Nathan\"]\n",
    "print(\"Nathan's movie ratings\")\n",
    "print(nathan_rating)\n",
    "\n",
    "jacob_rating = {}\n",
    "jacob_rating[\"Avengers\"] = raw_avg_mean_train + bias_movies[\"movie:Avengers\"] + bias_user[\"user:Jacob\"]\n",
    "jacob_rating[\"Alladin\"] = raw_avg_mean_train + bias_movies[\"movie:Alladin\"] + bias_user[\"user:Jacob\"]\n",
    "jacob_rating[\"Captain Marvel\"] = raw_avg_mean_train + bias_movies[\"movie:Captain Marvel\"] + bias_user[\"user:Jacob\"]\n",
    "jacob_rating[\"Toy Story\"] = raw_avg_mean_train + bias_movies[\"movie:Toy Story\"] + bias_user[\"user:Jacob\"]\n",
    "jacob_rating[\"Dumbo\"] = raw_avg_mean_train + bias_movies[\"movie:Dumbo\"] + bias_user[\"user:Jacob\"]\n",
    "print(\"Jacob's movie ratings\")\n",
    "print(jacob_rating)\n"
   ]
  },
  {
   "cell_type": "markdown",
   "metadata": {},
   "source": [
    "### Calculate the RMSE for Training and Test Data using above ratings calculated using bias method or our baseline predictor"
   ]
  },
  {
   "cell_type": "code",
   "execution_count": null,
   "metadata": {},
   "outputs": [],
   "source": [
    "train_ratings = np.array([5,4,2,4,4,3,2,2,4,5,3,5,1,4,4,4,4,3,2,5])\n",
    "train_bias_calculated = np.array([4.64,4.3,2.3,4.64,4.05,2.83,1.33,2.58,5.0,4.75,2.75,4.5,1.5,3.83,3.25,4.43,4.1,2.6,2.1,4.43])\n",
    "train_rmse = rmse(train_ratings, train_bias_calculated)\n",
    "print(\"New Training RMSE is \" + str(train_rmse))"
   ]
  },
  {
   "cell_type": "code",
   "execution_count": null,
   "metadata": {},
   "outputs": [],
   "source": [
    "improvement = (1- 0.47/1.16)\n",
    "print(\"Improvement over raw avg methode for training data \"+str(improvement))"
   ]
  },
  {
   "cell_type": "code",
   "execution_count": null,
   "metadata": {},
   "outputs": [],
   "source": [
    "test_ratings = np.array([4,2,5,3,4])\n",
    "test_bias_calculated = np.array([2.8,0.83,5.0,3.5,3.85])\n",
    "test_rmse = rmse(test_ratings, test_bias_calculated)\n",
    "print(\"New Testing RMSE is \" + str(test_rmse))"
   ]
  },
  {
   "cell_type": "code",
   "execution_count": null,
   "metadata": {},
   "outputs": [],
   "source": [
    "improvement = (1- 0.78/1.02)\n",
    "print(\"Improvement over raw avg method for test data \"+ str(improvement))"
   ]
  },
  {
   "cell_type": "markdown",
   "metadata": {},
   "source": [
    "## Summary"
   ]
  },
  {
   "cell_type": "markdown",
   "metadata": {},
   "source": [
    "1. Looking at the user bias you can say that user Josh( bias value -1.5)  is a harsh user and users Adam and Nathan are easy users (bias value both +0.83)\n",
    "\n",
    "2. Looking at the movie bias you can say that movie Captain Marvel is popular movie with movie bias value +0.75 value and Alladin is less popular movie with bas value -1.5\n",
    "\n",
    "3. RMSE using raw avg method for training data is 1.16 and using our basic simulator method is 0.47. So this is improvement of 59% over raw average approach\n",
    "\n",
    "4. RMSE using raw avg method for test data is 1.02 and using our basic simulator method is 0.78. So this is improvement of 23% over raw average approach\n",
    "\n",
    "5. So we can conclude that our basic simulator predictions are working better than raw average method\n",
    "\n"
   ]
  },
  {
   "cell_type": "code",
   "execution_count": null,
   "metadata": {},
   "outputs": [],
   "source": []
  }
 ],
 "metadata": {
  "kernelspec": {
   "display_name": "Python 3",
   "language": "python",
   "name": "python3"
  },
  "language_info": {
   "codemirror_mode": {
    "name": "ipython",
    "version": 3
   },
   "file_extension": ".py",
   "mimetype": "text/x-python",
   "name": "python",
   "nbconvert_exporter": "python",
   "pygments_lexer": "ipython3",
   "version": "3.7.2"
  }
 },
 "nbformat": 4,
 "nbformat_minor": 2
}
