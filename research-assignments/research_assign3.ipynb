{
 "cells": [
  {
   "cell_type": "markdown",
   "metadata": {},
   "source": [
    "### Resarch Discussion Assignment-3\n",
    "\n",
    "#### As more systems and sectors are driven by predictive analytics, there is increasing awareness of the possibility and pitfalls of algorithmic discrimination. In what ways do you think Recommender Systems reinforce human bias? Reflecting on the techniques we have covered, do you think recommender systems reinforce or help to prevent unethical targeting or customer segmentation?  Please provide one or more examples to support your arguments."
   ]
  },
  {
   "cell_type": "code",
   "execution_count": null,
   "metadata": {},
   "outputs": [],
   "source": [
    "I read different articles on this subject and I felt that we should strike a balance while using gender,race,zipcode or \n",
    "any kind of human bias while predicting or writing recommender systems. Some places using gender information is important,\n",
    "area like advertising of beauty products ,surely you will show different products for men and women. In case of movie \n",
    "recommendation gender can play important role and using this information for recommendation is not unethical.\n",
    "\n",
    "My suggestion is like having gender-race equality test and making it compulsory for each commercial company to run their recommender\n",
    "system trough that and keeping some minimum score to pass that test and making the results public. Also it is more of ethical\n",
    "and social responsibility of the companies to make sure that gender, race information si used properly and the outcome of the\n",
    "recommender system is not human biased.\n",
    "\n",
    "references:\n",
    "    "
   ]
  }
 ],
 "metadata": {
  "kernelspec": {
   "display_name": "Python 3",
   "language": "python",
   "name": "python3"
  },
  "language_info": {
   "codemirror_mode": {
    "name": "ipython",
    "version": 3
   },
   "file_extension": ".py",
   "mimetype": "text/x-python",
   "name": "python",
   "nbconvert_exporter": "python",
   "pygments_lexer": "ipython3",
   "version": "3.7.2"
  }
 },
 "nbformat": 4,
 "nbformat_minor": 2
}
