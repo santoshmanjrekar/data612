{
 "cells": [
  {
   "cell_type": "markdown",
   "metadata": {},
   "source": [
    "#### Research Discussion Assignment 2\n",
    "\n",
    "In the video, Christopher explained about the recommender system used at the spotify. Looks like spotify is using collaborative filtering model for their recommender system. Spotify has around 4 million users and around 500k artists. Spotify uses Hadoop for their data storage, so they store their user-artist=rating matrix on the Hadoop. They use matrix factorization method in their recommender system. Also they use spark framework for distributed processing and calculations which has improved the performance of their recommender system significantly. Due to the spark data is loaded in the memory and IO between the iterations is avoided."
   ]
  }
 ],
 "metadata": {
  "kernelspec": {
   "display_name": "Python 3",
   "language": "python",
   "name": "python3"
  },
  "language_info": {
   "codemirror_mode": {
    "name": "ipython",
    "version": 3
   },
   "file_extension": ".py",
   "mimetype": "text/x-python",
   "name": "python",
   "nbconvert_exporter": "python",
   "pygments_lexer": "ipython3",
   "version": "3.7.2"
  }
 },
 "nbformat": 4,
 "nbformat_minor": 2
}
