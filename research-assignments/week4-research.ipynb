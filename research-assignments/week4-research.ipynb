{
 "cells": [
  {
   "cell_type": "markdown",
   "metadata": {},
   "source": [
    "### Mitigating harm of recommeder system"
   ]
  },
  {
   "cell_type": "markdown",
   "metadata": {},
   "source": [
    "I went through all the articles and here are my thoughts around it. We can handle this problem following ways\n",
    "\n",
    "#### Social Responsibility\n",
    "Everyone should show some social responsibility and make sure what they are posting on social platforms available. It may be facebook, twitter, youtube etc. But things are not that straight-forward and thats why there are laws in every country.So we need to consider some other ways to tackle this problem.\n",
    "\n",
    "#### Ethical or Social Harm feedback\n",
    "As of todau facebook allows a afeature where you can report abusive post. Similar feature can be implemented across all the social media and youtube like sites where normal users can report the unethical posts and which can be fed into recommender engine.\n",
    "\n",
    "#### Standard tests for Unethical and Harmful posts/subjects\n",
    "Today all banks use a common database where they have list of terrorist names or defaulters list against which they can validate their customers. all the bigwigs of social media and digital advertisers like Facebook, Google, Twitter,Amazon can come together and maintain a repository of unethical and harmful \n"
   ]
  }
 ],
 "metadata": {
  "kernelspec": {
   "display_name": "Python 3",
   "language": "python",
   "name": "python3"
  },
  "language_info": {
   "codemirror_mode": {
    "name": "ipython",
    "version": 3
   },
   "file_extension": ".py",
   "mimetype": "text/x-python",
   "name": "python",
   "nbconvert_exporter": "python",
   "pygments_lexer": "ipython3",
   "version": "3.7.2"
  }
 },
 "nbformat": 4,
 "nbformat_minor": 2
}
